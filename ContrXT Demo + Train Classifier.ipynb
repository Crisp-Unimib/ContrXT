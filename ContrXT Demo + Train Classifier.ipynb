{
 "cells": [
  {
   "cell_type": "code",
   "execution_count": null,
   "metadata": {},
   "outputs": [],
   "source": [
    "import os, logging, random\n",
    "from zipfile import ZipFile\n",
    "\n",
    "import numpy as np\n",
    "import pandas as pd\n",
    "\n",
    "from sklearn.feature_extraction.text import TfidfVectorizer\n",
    "from sklearn.naive_bayes import MultinomialNB\n",
    "from sklearn import preprocessing\n",
    "\n",
    "from contrxt.contrxt import ContrXT"
   ]
  },
  {
   "cell_type": "markdown",
   "metadata": {},
   "source": [
    "# Load Data"
   ]
  },
  {
   "cell_type": "code",
   "execution_count": null,
   "metadata": {},
   "outputs": [],
   "source": [
    "# Import the dataset from time_1 and time_2\n",
    "with ZipFile('tests/test_data/20newsgroups.zip', 'r') as archive:\n",
    "    df_time_1 = pd.read_csv(archive.open('df_time_1.csv'), delimiter=',')\n",
    "    df_time_2 = pd.read_csv(archive.open('df_time_2.csv'), delimiter=',')\n",
    "\n",
    "df_time_1.head()"
   ]
  },
  {
   "cell_type": "markdown",
   "metadata": {},
   "source": [
    "# Train Simple Classifier"
   ]
  },
  {
   "cell_type": "code",
   "execution_count": null,
   "metadata": {},
   "outputs": [],
   "source": [
    "np.random.seed(42)\n",
    "random.seed(42)\n",
    "    \n",
    "# Encode the categorical target\n",
    "encoder = preprocessing.LabelEncoder()\n",
    "X_t1, X_t2 = df_time_1['corpus'], df_time_2['corpus']\n",
    "Y_t1, Y_t2 = (\n",
    "    encoder.fit_transform(df_time_1['category']),\n",
    "    encoder.fit_transform(df_time_2['category'],\n",
    ")    \n",
    "\n",
    "# Define vectorizer\n",
    "vect_t1 = TfidfVectorizer(max_features=int(21e6), ngram_range=(1, 1))\n",
    "vect_t2 = TfidfVectorizer(max_features=int(21e6), ngram_range=(1, 1))\n",
    "\n",
    "# Fit and transform text data\n",
    "sparse_t1, sparse_t2 = (\n",
    "    vect_t1.fit_transform(X_t1),\n",
    "    vect_t2.fit_transform(X_t2),\n",
    ") \n",
    "\n",
    "# Train simple Naive Bayes classifiers\n",
    "classifier_t1, classifier_t2 = MultinomialNB(), MultinomialNB()\n",
    "classifier_t1.fit(sparse_t1, Y_t1)\n",
    "classifier_t2.fit(sparse_t2, Y_t2)\n",
    "\n",
    "# Get class names\n",
    "class_names = df_time_1['category'].unique()\n",
    "class_names.sort()\n",
    "\n",
    "# Get model predictions\n",
    "predicted_labels_t1 = [class_names[i] for i in classifier_t1.predict(sparse_t1)]\n",
    "predicted_labels_t2 = [class_names[i] for i in classifier_t2.predict(sparse_t2)]"
   ]
  },
  {
   "cell_type": "markdown",
   "metadata": {},
   "source": [
    "# ContrXT"
   ]
  },
  {
   "cell_type": "code",
   "execution_count": null,
   "metadata": {},
   "outputs": [],
   "source": [
    "# Initialize ContrXT\n",
    "exp = ContrXT(X_t1, predicted_labels_t1,\n",
    "              X_t2, predicted_labels_t2,\n",
    "              hyperparameters_selection=True, save_path=f'results/',\n",
    "              save_surrogates=True, save_bdds=True)\n",
    "\n",
    "exp.run_trace()"
   ]
  },
  {
   "cell_type": "code",
   "execution_count": null,
   "metadata": {},
   "outputs": [],
   "source": [
    "exp.run_explain()"
   ]
  },
  {
   "cell_type": "markdown",
   "metadata": {},
   "source": [
    "# Bdd2Text"
   ]
  },
  {
   "cell_type": "code",
   "execution_count": null,
   "metadata": {
    "scrolled": true
   },
   "outputs": [],
   "source": [
    "exp.explain.BDD2Text()"
   ]
  }
 ],
 "metadata": {
  "kernelspec": {
   "display_name": "Python 3",
   "language": "python",
   "name": "python3"
  },
  "language_info": {
   "codemirror_mode": {
    "name": "ipython",
    "version": 3
   },
   "file_extension": ".py",
   "mimetype": "text/x-python",
   "name": "python",
   "nbconvert_exporter": "python",
   "pygments_lexer": "ipython3",
   "version": "3.9.7"
  }
 },
 "nbformat": 4,
 "nbformat_minor": 2
}
