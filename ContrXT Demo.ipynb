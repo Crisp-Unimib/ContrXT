{
 "cells": [
  {
   "cell_type": "code",
   "execution_count": null,
   "metadata": {},
   "outputs": [],
   "source": [
    "import os, logging\n",
    "from zipfile import ZipFile\n",
    "import pandas as pd\n",
    "from contrxt.contrxt import ContrXT\n",
    "\n",
    "if not os.path.exists(f'demo/'):\n",
    "    os.mkdir(f'demo/')"
   ]
  },
  {
   "cell_type": "markdown",
   "metadata": {},
   "source": [
    "# Load Data"
   ]
  },
  {
   "cell_type": "code",
   "execution_count": null,
   "metadata": {},
   "outputs": [],
   "source": [
    "with ZipFile('tests/test_data/20newsgroups.zip', 'r') as archive:\n",
    "    df_time_1 = pd.read_csv(archive.open('df_time_1.csv'), delimiter=',')\n",
    "    df_time_2 = pd.read_csv(archive.open('df_time_2.csv'), delimiter=',')\n",
    "\n",
    "df_time_1 = df_time_1[~df_time_1['corpus'].isnull()]\n",
    "df_time_2 = df_time_2[~df_time_2['corpus'].isnull()]\n",
    "\n",
    "# Load data\n",
    "X_t1, Y_t1, predicted_labels_t1 = df_time_1['corpus'], df_time_1['category'], df_time_1['predicted_labels']\n",
    "X_t2, Y_t2, predicted_labels_t2 = df_time_2['corpus'], df_time_2['category'], df_time_2['predicted_labels']"
   ]
  },
  {
   "cell_type": "markdown",
   "metadata": {},
   "source": [
    "# ContrXT"
   ]
  },
  {
   "cell_type": "code",
   "execution_count": null,
   "metadata": {},
   "outputs": [],
   "source": [
    "exp = ContrXT(X_t1, Y_t1, predicted_labels_t1,\n",
    "              X_t2, Y_t2, predicted_labels_t2,\n",
    "              data_type='text', surrogate_type='sklearn', log_level=logging.INFO,\n",
    "              hyperparameters_selection=True, save_path=f'results/',\n",
    "              save_surrogates=True, save_csvs=True, save_bdds=True)\n",
    "\n",
    "percent_dataset = 1\n",
    "print(f'Running Trace with percent of dataset to use: {percent_dataset}', flush=True)\n",
    "exp.run_trace(percent_dataset)"
   ]
  },
  {
   "cell_type": "code",
   "execution_count": null,
   "metadata": {},
   "outputs": [],
   "source": [
    "exp.run_explain()"
   ]
  },
  {
   "cell_type": "markdown",
   "metadata": {},
   "source": [
    "# Bdd2Text"
   ]
  },
  {
   "cell_type": "code",
   "execution_count": null,
   "metadata": {
    "scrolled": true
   },
   "outputs": [],
   "source": [
    "exp.explain.BDD2Text()"
   ]
  }
 ],
 "metadata": {
  "kernelspec": {
   "display_name": "Python 3",
   "language": "python",
   "name": "python3"
  },
  "language_info": {
   "codemirror_mode": {
    "name": "ipython",
    "version": 3
   },
   "file_extension": ".py",
   "mimetype": "text/x-python",
   "name": "python",
   "nbconvert_exporter": "python",
   "pygments_lexer": "ipython3",
   "version": "3.9.7"
  }
 },
 "nbformat": 4,
 "nbformat_minor": 2
}
